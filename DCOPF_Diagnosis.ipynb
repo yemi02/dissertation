{
 "cells": [
  {
   "cell_type": "markdown",
   "id": "67a02534",
   "metadata": {},
   "source": [
    "## DC OPF Diagnosis and Troubleshooting Notebook\n",
    "This notebook is designed for the diagnosis, testing, and troubleshooting of DC Optimal Power Flow (DCOPF) calculations on power system networks using the `pandapower` library."
   ]
  },
  {
   "cell_type": "markdown",
   "id": "613845e7",
   "metadata": {},
   "source": [
    "#### 1. Network Construction from Custom Modules"
   ]
  },
  {
   "cell_type": "code",
   "execution_count": 4,
   "id": "4a6377a2",
   "metadata": {},
   "outputs": [
    {
     "name": "stdout",
     "output_type": "stream",
     "text": [
      "Line creation complete.\n",
      "Transformer creation complete.\n",
      "Load creation complete.\n",
      "Generator creation complete.\n"
     ]
    }
   ],
   "source": [
    "# Import required libraries for network analysis and data handling\n",
    "import pandapower as pp\n",
    "import pandas as pd\n",
    "from buses import create_buses\n",
    "from lines import create_lines\n",
    "from transformers import create_transformers\n",
    "from loads import create_loads, group_bus_by_substation\n",
    "from generators import create_gens\n",
    "\n",
    "# Create Empty Network\n",
    "net = pp.create_empty_network()\n",
    "\n",
    "# Create Buses\n",
    "SHE_BUS, SPT_BUS, OFTO_BUS, NGET_bus_lookup = create_buses(net)\n",
    "\n",
    "\n",
    "# Create Lines\n",
    "create_lines(net, NGET_bus_lookup, SHE_BUS, SPT_BUS, OFTO_BUS)\n",
    "\n",
    "# create Transformers\n",
    "create_transformers(net, NGET_bus_lookup, SHE_BUS, SPT_BUS, OFTO_BUS)\n",
    "\n",
    "# Create Loads\n",
    "substation_group = group_bus_by_substation(NGET_bus_lookup)\n",
    "create_loads(net, NGET_bus_lookup, substation_group)\n",
    "\n",
    "# create generators\n",
    "create_gens(net, NGET_bus_lookup, substation_group)\n",
    "\n",
    "# slack bus\n",
    "pp.create_ext_grid(net, SPT_BUS, vm_pu = 1, name=\"SPT BUS\")\n",
    "\n",
    "# Save the network to an Excel file for persistent storage and easy loading\n",
    "pp.to_excel(net, 'network_v0.xlsx')"
   ]
  },
  {
   "cell_type": "markdown",
   "id": "ea6a9d39",
   "metadata": {},
   "source": [
    "#### 2. Network Topology Analysis: Island Detection\n",
    "This section loads the previously saved network and performs a topological analysis to identify disconnected components, also known as 'islands'. Power flow calculations can only be successfully performed on a connected network. Detecting islands is a crucial step for troubleshooting convergence issues, as disconnected sections of the grid cannot solve. The sizes and a few bus indices of each detected island are printed."
   ]
  },
  {
   "cell_type": "code",
   "execution_count": 5,
   "id": "f5370b44",
   "metadata": {},
   "outputs": [
    {
     "name": "stdout",
     "output_type": "stream",
     "text": [
      "This pandapower network includes the following parameter tables:\n",
      "   - bus (795 element)\n",
      "   - load (913 element)\n",
      "   - gen (299 element)\n",
      "   - ext_grid (1 elements)\n",
      "   - line (631 element)\n",
      "   - impedance (774 element)\n",
      "   - poly_cost (299 element)\n",
      "Found 5 island(s).\n",
      "Island 1: {0}\n",
      "Island 2: 789 buses (bus indices: [1, 3, 4, 5, 6]...)\n",
      "Island 3: {2}\n",
      "Island 4: {450, 451}\n",
      "Island 5: {452, 453}\n"
     ]
    }
   ],
   "source": [
    "import pandapower as pp\n",
    "import pandapower.topology as ppt\n",
    "import networkx as nx\n",
    "\n",
    "# Load the network\n",
    "net = pp.from_excel('network_v0.xlsx')\n",
    "print(net)\n",
    "\n",
    "# Create the networkx graph\n",
    "graph = ppt.create_nxgraph(net)\n",
    "\n",
    "# Find islands (connected components)\n",
    "islands = list(ppt.connected_components(graph))\n",
    "print(f\"Found {len(islands)} island(s).\")\n",
    "\n",
    "# Print summary for each island (showing only size, not all indices)\n",
    "for i, isl in enumerate(islands):\n",
    "    print(f\"Island {i+1}: {len(isl)} buses (bus indices: {list(isl)[:5]}...)\" if len(isl) > 5 else f\"Island {i+1}: {isl}\")"
   ]
  },
  {
   "cell_type": "markdown",
   "id": "4eba150f",
   "metadata": {},
   "source": [
    "#### 3. Power Flow Analysis on the Main Connected Component (Island 2)\n",
    "The following operations are performed:\n",
    "1. **Network Isolation**: A deep copy of the original network is made, and all buses *not* belonging to Island 2 are removed.\n",
    "2. **Generator & Load Configuration**: Generators are set to be controllable for OPF, loads are fixed, and minimum generation for generators is set to zero. Load levels are also scaled down (e.g., to 60% of original values) to create a specific scenario.\n",
    "3. **DCPF Execution**: A DC Power Flow (DCPF) is run to determine voltage angles and power flows under the specified conditions. Its convergence status is reported.\n",
    "4. **DCOPF Execution**: A DC Optimal Power Flow (DCOPF) is then attempted. This aims to minimize generation costs while respecting operational constraints. Its convergence status is reported, and any errors are caught and displayed for troubleshooting."
   ]
  },
  {
   "cell_type": "code",
   "execution_count": null,
   "id": "de9465ff",
   "metadata": {},
   "outputs": [
    {
     "name": "stdout",
     "output_type": "stream",
     "text": [
      "DCPF converged: True\n",
      "DCOPF converged: True\n"
     ]
    }
   ],
   "source": [
    "import pandapower as pp\n",
    "import pandapower.topology as ppt\n",
    "import matplotlib.pyplot as plt\n",
    "import warnings\n",
    "\n",
    "warnings.filterwarnings('ignore')\n",
    "\n",
    "# Get the buses for the largest island (Island 2, assuming it's the second in the list)\n",
    "island2_buses = list(islands[1])\n",
    "\n",
    "# Create a deep copy of the network to modify it without affecting the original\n",
    "island2_net = net.deepcopy()\n",
    "\n",
    "# Configure controllable elements for DCOPF\n",
    "island2_net.gen['controllable'] = True\n",
    "island2_net.load['controllable'] = False\n",
    "island2_net.gen['min_p_mw'] = 0\n",
    "\n",
    "# Apply specific load scaling for the scenario being tested\n",
    "island2_net.load.loc[:,'p_mw'] = island2_net.load.loc[:,'p_mw'] * 0.6\n",
    "\n",
    "# Remove buses not part of Island 2 from the copied network\n",
    "buses_to_drop = list(set(island2_net.bus.index) - set(island2_buses))\n",
    "pp.drop_buses(island2_net, buses_to_drop)\n",
    "\n",
    "# Check for slack/external grid or generators in the isolated island\n",
    "if island2_net.ext_grid.empty and island2_net.gen.empty:\n",
    "    raise ValueError(\"No slack/ext_grid or generator in island 2; DC power flow cannot be run.\")\n",
    "\n",
    "# --- Run DC Power Flow (DCPF) ---\n",
    "pp.rundcpp(island2_net)\n",
    "print('DCPF converged:', island2_net.converged)\n",
    "\n",
    "# --- Run DC Optimal Power Flow (DCOPF) ---\n",
    "try:\n",
    "    pp.rundcopp(island2_net)\n",
    "    print('DCOPF converged:', island2_net.OPF_converged)\n",
    "except Exception as e:\n",
    "    print('DCOPF failed to converge')\n",
    "    print('Error:', e)"
   ]
  }
 ],
 "metadata": {
  "kernelspec": {
   "display_name": "Python 3",
   "language": "python",
   "name": "python3"
  },
  "language_info": {
   "codemirror_mode": {
    "name": "ipython",
    "version": 3
   },
   "file_extension": ".py",
   "mimetype": "text/x-python",
   "name": "python",
   "nbconvert_exporter": "python",
   "pygments_lexer": "ipython3",
   "version": "3.10.11"
  }
 },
 "nbformat": 4,
 "nbformat_minor": 5
}
